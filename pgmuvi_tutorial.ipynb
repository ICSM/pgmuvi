{
  "cells": [
    {
      "attachments": {},
      "cell_type": "markdown",
      "metadata": {
        "colab_type": "text",
        "id": "view-in-github"
      },
      "source": [
        "<a href=\"https://colab.research.google.com/github/ICSM/pgmuvi/blob/main/pgmuvi_tutorial.ipynb\" target=\"_parent\"><img src=\"https://colab.research.google.com/assets/colab-badge.svg\" alt=\"Open In Colab\"/></a>"
      ]
    },
    {
      "attachments": {},
      "cell_type": "markdown",
      "metadata": {
        "id": "zDG3hKiVmHUW"
      },
      "source": [
        "# How to use pgmuvi - a brief introduction\n",
        "\n"
      ]
    },
    {
      "attachments": {},
      "cell_type": "markdown",
      "metadata": {
        "id": "hEyug9B9LHZC"
      },
      "source": [
        "`pgmuvi` is a package to infer the multiwavelength behaviour of astronomical lightcurves using Gaussian Processes. It uses the `torch` and `gpytorch` libraries to define GP models, and the probabilistic programming language `pyro` to perform optimisation and sampling of the parameter space.\n",
        "\n",
        "## Why pgmuvi\n",
        "\n",
        "Many packages exist to interpret lightcurves with GPs, so why do we need another one? `pgmuvi` builds on the latest highly-optimised libraries which allow inference with arbitrary GP kernels. This makes it feasible to implement models that are very general, which is important in astronomy where lightcurves can have a wide range of different properties. However, this normally results in a speed penalty, since naive GPs scale with $\\mathcal{O}\\left(n^3\\right)$; to combat this, the libraries implement scalable approaches to GP inference, such as GPU computing. This allows both a wide range of GP kernels and fast inference, meaning that `pgmuvi` can be applied to arbitrary astronomical lightcurves without taking _that much_ longer than codes which are restricted to special cases but blisteringly fast in those cases.\n",
        "\n",
        "## What does pgmuvi do\n",
        "\n",
        "The objective is to understand what the PSD of the variability is, and in the case of (quasi-)periodic variables determine their dominant periods. To do this, `pgmuvi` uses a `SpectralMixtureKernel`, which models the PSD of the covariances of the GP as a Gaussian Mixture model. This is a very flexible model which is able to represent a wide range of different kinds of behaviour, so can be useful for a wide range of astronomical lightcurves.\n",
        "\n",
        "## How to use pgmuvi\n",
        "\n",
        "The rest of this notebook is basically a quickstart guide to `pgmuvi`. It generates sythetic observations, but you can replace these with reading in your own data and passing it to `pgmuvi`'s `Lightcurve` classes to apply it to your own data."
      ]
    },
    {
      "cell_type": "code",
      "execution_count": null,
      "metadata": {
        "colab": {
          "base_uri": "https://localhost:8080/"
        },
        "id": "Q1SU6ncv7BtF",
        "outputId": "196f7bc8-0df8-4ec0-95eb-bfb4356b9aa7"
      },
      "outputs": [],
      "source": [
        "try: #This won't work right now - instead clone the repository and `pip install -e .`\n",
        "    import pgmuvi\n",
        "except ImportError:\n",
        "    %pip install git+https://github.com/ICSM/pgmuvi.git\n",
        "    import pgmuvi"
      ]
    },
    {
      "attachments": {},
      "cell_type": "markdown",
      "metadata": {
        "id": "G9zGgK85MpGK"
      },
      "source": [
        "Now we have imported/installed pgmuvi, we can use it to fit some data. For the purposes of this tutorial, we will generate two synthetic datasets - a single-wavelength lightcurve with very simple behaviour, and a second multi-wavelength one with some more complex patterns in it. It is important to note that the data must be in the form of `torch` tensors, rather than numpy arrays or other data types."
      ]
    },
    {
      "cell_type": "code",
      "execution_count": null,
      "metadata": {
        "colab": {
          "base_uri": "https://localhost:8080/"
        },
        "id": "l7iXofH7Nbz_",
        "outputId": "c837d540-5ab7-49e8-d439-ab031c2bea84"
      },
      "outputs": [],
      "source": [
        "import torch\n",
        "import numpy as np\n",
        "\"\"\" Let's generate some synthetic data from a perturbed sine curve\n",
        "    but on the same time sampling as the real data\"\"\"\n",
        "\n",
        "P = np.random.uniform(30, 300)#137. #Days!\n",
        "print(\"True period: \",P,\" days\")\n",
        "n_data = 400\n",
        "jd_min = 2450000\n",
        "n_periods = np.random.uniform(3,10)\n",
        "jd_max = jd_min + P*(n_periods)\n",
        "print(\"Simulating for \",n_periods,\" periods\")\n",
        "\n",
        "#train_mag =\n",
        "#train_mag = train_mag + 0.1*torch.randn_like(train_mag)\n",
        "#train_mag_err = 0.1*train_mag\n",
        "\n",
        "period_guess = P*(np.random.uniform()+0.5)#147 #this number is in the same units as our original input.\n",
        "\n",
        "#generate data from a simple case - superimpose two sine curves and add noise\n",
        "timestamps_1d = torch.Tensor(np.random.uniform(jd_min, jd_max, size=n_data))#generate random x data here\n",
        "fluxes_1d = torch.sin(timestamps_1d*(2*np.pi/P))#generate random y data here\n",
        "fluxes_1d += 0.1*torch.randn_like(fluxes_1d)\n",
        "flux_err_1d = 0.1*fluxes_1d"
      ]
    },
    {
      "attachments": {},
      "cell_type": "markdown",
      "metadata": {
        "id": "jP7ZjHrTOaWp"
      },
      "source": [
        "Now that we've got some simple data, we can feed it to pgmuvi and see how it handles it."
      ]
    },
    {
      "cell_type": "code",
      "execution_count": null,
      "metadata": {
        "id": "L1GzKnLJOzHh"
      },
      "outputs": [],
      "source": [
        "from pgmuvi.lightcurve import Lightcurve\n",
        "\n",
        "lightcurve_1d = Lightcurve(timestamps_1d, fluxes_1d, yerr = flux_err_1d, xtransform='minmax')"
      ]
    },
    {
      "attachments": {},
      "cell_type": "markdown",
      "metadata": {
        "id": "m06s-TKiPtfL"
      },
      "source": [
        "The `xtransform` argument is important. The computing time and numerical stability of this GP model depends somewhat on the range of frequencies it is asked to compute the PSD on, so it is common to transform the inputs to some simple interval that ensures the frequencies are easier. Astronomical timeseries often cover very long times, and therefore very low frequencies if left in their original units (e.g. Julian Dates), which are particularly difficult to compute on. By default, `Lightcurve` therefore transforms the data so that it is in the closed interval $\\left[0, 1\\right]$, although other transformations (or none) can be defined by the user.\n",
        "\n",
        "Now that we have a lightcurve, we can try to fit it:"
      ]
    },
    {
      "cell_type": "code",
      "execution_count": null,
      "metadata": {
        "colab": {
          "base_uri": "https://localhost:8080/"
        },
        "id": "qV5QuLYdPwTx",
        "outputId": "18f0c945-f9b2-4951-a3b7-d75e1d883072"
      },
      "outputs": [],
      "source": [
        "fit = lightcurve_1d.fit(model='1D', likelihood='learn', num_mixtures=1, training_iter=3000, miniter=3000)"
      ]
    },
    {
      "attachments": {},
      "cell_type": "markdown",
      "metadata": {
        "id": "lwIguoa3QAD2"
      },
      "source": [
        "this is a very simple case, and we have not specified any of the extra keywords that `fit` exposes. You will probably want to specify an initial guess of the GP hyperparameters, and the default number of components in the mixture model for the PSD is 4. Each mixture has a mean, scale and weight for the Gaussian, and there is a mean function (a constant mean) and an extra free parameter to learn additional noise in the input data.\n",
        "\n",
        "Now that the fit is completed, you can manually inspect the results"
      ]
    },
    {
      "cell_type": "code",
      "execution_count": null,
      "metadata": {
        "colab": {
          "base_uri": "https://localhost:8080/"
        },
        "id": "OwkXyfaIQGLi",
        "outputId": "fa0ece25-3f8a-4a1b-dcc9-bb9ded5bd96d"
      },
      "outputs": [],
      "source": [
        "lightcurve_1d.results"
      ]
    },
    {
      "attachments": {},
      "cell_type": "markdown",
      "metadata": {
        "id": "F_jpbrtgQIdq"
      },
      "source": [
        "but this output is quite ugly. Instead, you can call some routines to make informative summaries of them that are easier to read"
      ]
    },
    {
      "cell_type": "code",
      "execution_count": null,
      "metadata": {
        "colab": {
          "base_uri": "https://localhost:8080/"
        },
        "id": "UaaEuY1nQNv_",
        "outputId": "76ff2c82-b246-454c-940f-5c17568c9770"
      },
      "outputs": [],
      "source": [
        "lightcurve_1d.print_results()"
      ]
    },
    {
      "cell_type": "code",
      "execution_count": null,
      "metadata": {},
      "outputs": [],
      "source": [
        "lightcurve_1d.print_periods()"
      ]
    },
    {
      "attachments": {},
      "cell_type": "markdown",
      "metadata": {
        "id": "vmeUoeWnQn5_"
      },
      "source": [
        "and you can also generate some plots of the output; for example the lightcurve with the fit results on top of it"
      ]
    },
    {
      "cell_type": "code",
      "execution_count": null,
      "metadata": {
        "colab": {
          "base_uri": "https://localhost:8080/",
          "height": 546
        },
        "id": "SSqM2r0RQvnz",
        "outputId": "dd5cda6e-ebdb-4b95-ea19-23a3592ca641"
      },
      "outputs": [],
      "source": [
        "lightcurve_1d.plot()"
      ]
    },
    {
      "attachments": {},
      "cell_type": "markdown",
      "metadata": {
        "id": "ZQHFjRrAQzsD"
      },
      "source": [
        "or the maximum a-posteriori PSD that pgmuvi has inferred (this can be very slow!)"
      ]
    },
    {
      "cell_type": "code",
      "execution_count": null,
      "metadata": {
        "colab": {
          "base_uri": "https://localhost:8080/",
          "height": 169
        },
        "id": "CzIGiIXKQ5Td",
        "outputId": "4271fa98-6e62-4c1c-d48a-db81dc03572a"
      },
      "outputs": [],
      "source": [
        "lightcurve_1d.plot_psd()"
      ]
    },
    {
      "attachments": {},
      "cell_type": "markdown",
      "metadata": {},
      "source": [
        "However, this fit wasn't particularly good! This is because we didn't specify any initial guesses for the hyperparameters, and the default values are not very good for this dataset. We can try again with some better guesses:"
      ]
    },
    {
      "cell_type": "code",
      "execution_count": null,
      "metadata": {},
      "outputs": [],
      "source": [
        "lightcurve_1d.print_parameters()\n",
        "print(period_guess)\n",
        "guess = {'likelihood.second_noise_covar.noise': torch.Tensor([0.1]),\n",
        "         'sci_kernel.mixture_means': torch.Tensor([1/period_guess]),}\n",
        "lightcurve_1d.set_hypers(guess)\n",
        "lightcurve_1d.print_parameters()"
      ]
    },
    {
      "attachments": {},
      "cell_type": "markdown",
      "metadata": {},
      "source": [
        "We printed the parameters before and after setting them to see how they have changed. As we can see, they were updated as instructed. Now we can try to fit again:"
      ]
    },
    {
      "cell_type": "code",
      "execution_count": null,
      "metadata": {},
      "outputs": [],
      "source": [
        "\n",
        "new_fit = lightcurve_1d.fit(training_iter=3000, miniter=3000)\n",
        "lightcurve_1d.print_results()\n",
        "lightcurve_1d.print_periods()"
      ]
    },
    {
      "attachments": {},
      "cell_type": "markdown",
      "metadata": {},
      "source": [
        "This results in a much better fit, as you can see:"
      ]
    },
    {
      "cell_type": "code",
      "execution_count": null,
      "metadata": {},
      "outputs": [],
      "source": [
        "lightcurve_1d.plot()"
      ]
    },
    {
      "attachments": {},
      "cell_type": "markdown",
      "metadata": {},
      "source": [
        "We can look at the new PSD, but again this can take a very long time!"
      ]
    },
    {
      "cell_type": "code",
      "execution_count": null,
      "metadata": {},
      "outputs": [],
      "source": [
        "lightcurve_1d.plot_psd(log=(True, True))"
      ]
    },
    {
      "attachments": {},
      "cell_type": "markdown",
      "metadata": {},
      "source": [
        "We can also look at the periods that came out of it:"
      ]
    },
    {
      "cell_type": "code",
      "execution_count": null,
      "metadata": {},
      "outputs": [],
      "source": [
        "lightcurve_1d.get_periods()"
      ]
    },
    {
      "attachments": {},
      "cell_type": "markdown",
      "metadata": {},
      "source": [
        "And look at the frequency that we used as our guess of the period:"
      ]
    },
    {
      "cell_type": "code",
      "execution_count": null,
      "metadata": {},
      "outputs": [],
      "source": [
        "1/period_guess"
      ]
    },
    {
      "attachments": {},
      "cell_type": "markdown",
      "metadata": {
        "id": "hfr1QuByQRtD"
      },
      "source": [
        "If you want more information, you can use MCMC to sample the posterior of the model (this is still being developed!)"
      ]
    },
    {
      "cell_type": "code",
      "execution_count": null,
      "metadata": {
        "colab": {
          "base_uri": "https://localhost:8080/",
          "height": 169
        },
        "id": "lcrZocNTQ8p0",
        "outputId": "a4808e4e-e970-4842-d70d-fa5c7db98908"
      },
      "outputs": [],
      "source": [
        "lightcurve_1d.mcmc()"
      ]
    },
    {
      "attachments": {},
      "cell_type": "markdown",
      "metadata": {
        "id": "U32sM-jCRfAJ"
      },
      "source": [
        "This takes a while, unless you run it using a GPU - if that works. That's a subject for a different tutorial. Now we've got some results from MCMC, we should take a look at them. First, we can look at the trace"
      ]
    },
    {
      "cell_type": "code",
      "execution_count": null,
      "metadata": {
        "colab": {
          "base_uri": "https://localhost:8080/",
          "height": 222
        },
        "id": "5JcU0askS_H3",
        "outputId": "7f4ee203-cfc1-497b-8266-b9204d90b620"
      },
      "outputs": [],
      "source": [
        "#internally, Lightcurve should call arviz and produce these outputs\n",
        "lightcurve_1d.summary()\n",
        "lightcurve_1d.plot_trace()\n",
        "lightcurve_1d.pairplot()"
      ]
    },
    {
      "attachments": {},
      "cell_type": "markdown",
      "metadata": {
        "id": "ixYnFmy3TSZE"
      },
      "source": [
        "Now if you plot the lightcurve and results, you can get samples drawn from the MCMC chains instead of the mean and credible interval of the MAP solution"
      ]
    },
    {
      "cell_type": "code",
      "execution_count": null,
      "metadata": {
        "colab": {
          "base_uri": "https://localhost:8080/",
          "height": 169
        },
        "id": "9y7pAhhRTdHK",
        "outputId": "e5c78179-7d8e-43b5-fcf2-3babad36ca57"
      },
      "outputs": [],
      "source": [
        "lightcurve_1d.plot(mcmc_samples = True)"
      ]
    },
    {
      "attachments": {},
      "cell_type": "markdown",
      "metadata": {
        "id": "1LM835UNK_Y0"
      },
      "source": [
        "and you can do the same thing with the PSD"
      ]
    },
    {
      "cell_type": "code",
      "execution_count": null,
      "metadata": {
        "id": "0nbn-pNILCAC"
      },
      "outputs": [],
      "source": [
        "lightcurve_1d.plot_psd(mcmc_samples = True)"
      ]
    }
  ],
  "metadata": {
    "colab": {
      "include_colab_link": true,
      "provenance": []
    },
    "kernelspec": {
      "display_name": "Python 3",
      "name": "python3"
    },
    "language_info": {
      "codemirror_mode": {
        "name": "ipython",
        "version": 3
      },
      "file_extension": ".py",
      "mimetype": "text/x-python",
      "name": "python",
      "nbconvert_exporter": "python",
      "pygments_lexer": "ipython3",
      "version": "3.11.4"
    }
  },
  "nbformat": 4,
  "nbformat_minor": 0
}
